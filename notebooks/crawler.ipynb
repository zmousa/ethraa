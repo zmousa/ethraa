{
 "cells": [
  {
   "cell_type": "markdown",
   "metadata": {},
   "source": [
    "# Crawler\n",
    "- [How to Scrape Wikipedia Articles with Python](https://www.freecodecamp.org/news/scraping-wikipedia-articles-with-python/)\n",
    "- [Web scraping from Wikipedia using Python – A Complete Guide](https://www.geeksforgeeks.org/web-scraping-from-wikipedia-using-python-a-complete-guide/)"
   ]
  }
 ],
 "metadata": {
  "language_info": {
   "name": "python"
  }
 },
 "nbformat": 4,
 "nbformat_minor": 2
}
