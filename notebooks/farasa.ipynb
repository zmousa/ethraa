{
 "cells": [
  {
   "cell_type": "markdown",
   "metadata": {},
   "source": [
    "# Farasa API\n",
    "- https://farasa.qcri.org/"
   ]
  },
  {
   "cell_type": "markdown",
   "metadata": {},
   "source": [
    "### segmentation"
   ]
  },
  {
   "cell_type": "code",
   "execution_count": 1,
   "metadata": {},
   "outputs": [
    {
     "name": "stdout",
     "output_type": "stream",
     "text": [
      "{'text': ['يشار', 'إلى', 'أن', 'ال+لغ+ة', 'ال+عربي+ة']}\n"
     ]
    }
   ],
   "source": [
    "import json\n",
    "import requests\n",
    "\n",
    "\n",
    "url = 'https://farasa.qcri.org/webapi/segmentation/'\n",
    "text = 'يُشار إلى أن اللغة العربية' \n",
    "api_key = \"***\"\n",
    "payload = {'text': text, 'api_key': api_key}\n",
    "data = requests.post(url, data=payload)\n",
    "result = json.loads(data.text)\n",
    "print(result) \n"
   ]
  },
  {
   "cell_type": "markdown",
   "metadata": {},
   "source": [
    "### lemmatization"
   ]
  },
  {
   "cell_type": "code",
   "execution_count": 2,
   "metadata": {},
   "outputs": [
    {
     "name": "stdout",
     "output_type": "stream",
     "text": [
      "{'text': ['أشار', 'إلى', 'أن', 'لغة', 'عربي']}\n"
     ]
    }
   ],
   "source": [
    "import json\n",
    "import requests\n",
    "\n",
    "\n",
    "url = 'https://farasa.qcri.org/webapi/lemmatization/'\n",
    "text = 'يُشار إلى أن اللغة العربية' \n",
    "api_key = \"***\"\n",
    "payload = {'text': text, 'api_key': api_key}\n",
    "data = requests.post(url, data=payload)\n",
    "result = json.loads(data.text)\n",
    "print(result) "
   ]
  },
  {
   "cell_type": "markdown",
   "metadata": {},
   "source": [
    "### diacritize"
   ]
  },
  {
   "cell_type": "code",
   "execution_count": 3,
   "metadata": {},
   "outputs": [
    {
     "name": "stdout",
     "output_type": "stream",
     "text": [
      "{'text': 'يُشَارُ إِلَى أَنَّ اللُّغَةَ العَرَبيَّةَ'}\n"
     ]
    }
   ],
   "source": [
    "import json\n",
    "import requests\n",
    "\n",
    "\n",
    "url = 'https://farasa.qcri.org/webapi/diacritize/'\n",
    "text = 'يُشار إلى أن اللغة العربية' \n",
    "api_key = \"***\"\n",
    "payload = {'text': text, 'api_key': api_key}\n",
    "data = requests.post(url, data=payload)\n",
    "result = json.loads(data.text)\n",
    "print(result)   \n"
   ]
  },
  {
   "cell_type": "markdown",
   "metadata": {},
   "source": [
    "### Part Of Speech Tagging"
   ]
  },
  {
   "cell_type": "code",
   "execution_count": 4,
   "metadata": {},
   "outputs": [
    {
     "name": "stdout",
     "output_type": "stream",
     "text": [
      "{'text': [{'surface': 'S', 'POS': 'S', 'num': '', 'position': 'B'}, {'surface': 'يشار', 'POS': 'V', 'num': '', 'position': 'B'}, {'surface': 'إلى', 'POS': 'PREP', 'num': '', 'position': 'B'}, {'surface': 'أن', 'POS': 'PART', 'num': '', 'position': 'B'}, {'surface': 'ال+ لغ +ة', 'POS': 'DET+NOUN+NSUFF', 'num': 'FS', 'position': 'B'}, {'surface': 'ال+ عربي +ة', 'POS': 'DET+ADJ+NSUFF', 'num': 'FS', 'position': 'B'}, {'surface': 'E', 'POS': 'E', 'num': '', 'position': 'B'}]}\n"
     ]
    }
   ],
   "source": [
    "import json\n",
    "import requests\n",
    "\n",
    "\n",
    "url = 'https://farasa.qcri.org/webapi/pos/'\n",
    "text = 'يُشار إلى أن اللغة العربية' \n",
    "api_key = \"***\"\n",
    "payload = {'text': text, 'api_key': api_key}\n",
    "data = requests.post(url, data=payload)\n",
    "result = json.loads(data.text)\n",
    "print(result) "
   ]
  },
  {
   "cell_type": "markdown",
   "metadata": {},
   "source": [
    "### Name Entity Recognizer"
   ]
  },
  {
   "cell_type": "code",
   "execution_count": 6,
   "metadata": {},
   "outputs": [
    {
     "name": "stdout",
     "output_type": "stream",
     "text": [
      "{'text': ['يشار/O', 'إلى/O', 'أن/O', 'اللغة/O', 'العربية/O']}\n"
     ]
    }
   ],
   "source": [
    "import json\n",
    "import requests\n",
    "\n",
    "\n",
    "url = 'https://farasa.qcri.org/webapi/ner/'\n",
    "text = 'يُشار إلى أن اللغة العربية' \n",
    "api_key = \"***\"\n",
    "payload = {'text': text, 'api_key': api_key}\n",
    "data = requests.post(url, data=payload)\n",
    "result = json.loads(data.text)\n",
    "print(result)   "
   ]
  }
 ],
 "metadata": {
  "kernelspec": {
   "display_name": "arabicthon-3.9",
   "language": "python",
   "name": "python3"
  },
  "language_info": {
   "codemirror_mode": {
    "name": "ipython",
    "version": 3
   },
   "file_extension": ".py",
   "mimetype": "text/x-python",
   "name": "python",
   "nbconvert_exporter": "python",
   "pygments_lexer": "ipython3",
   "version": "3.9.18"
  }
 },
 "nbformat": 4,
 "nbformat_minor": 2
}
