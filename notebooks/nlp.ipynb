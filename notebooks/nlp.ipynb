{
 "cells": [
  {
   "cell_type": "markdown",
   "metadata": {},
   "source": [
    "# Standard NLP for Arabic\n",
    "- [Arabic NLP](https://spotintelligence.com/2023/10/29/arabic-nlp/)\n",
    "\n",
    "\n",
    "# Ontology Arabic WordNet\n",
    "- [Arabic_WordNet_Python3](https://github.com/Zaaim-Halim/Arabic_WordNet_Python3)\n",
    "- [Arabic-WordNet-To-SQLite](https://github.com/AhlemGit/Arabic-WordNet-To-SQLite)\n",
    "- [Using Arabic WordNet for Synonyms](https://stackoverflow.com/questions/34620627/using-arabic-wordnet-for-synonyms-in-python)"
   ]
  }
 ],
 "metadata": {
  "language_info": {
   "name": "python"
  }
 },
 "nbformat": 4,
 "nbformat_minor": 2
}
