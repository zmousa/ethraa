{
 "cells": [
  {
   "cell_type": "markdown",
   "metadata": {},
   "source": [
    "# Standard NLP for Arabic\n",
    "- [Arabic NLP](https://spotintelligence.com/2023/10/29/arabic-nlp/)\n",
    "\n",
    "\n",
    "# Ontology Arabic WordNet\n",
    "- [Arabic_WordNet_Python3](https://github.com/Zaaim-Halim/Arabic_WordNet_Python3)\n",
    "- [Arabic-WordNet-To-SQLite](https://github.com/AhlemGit/Arabic-WordNet-To-SQLite)\n",
    "- [Using Arabic WordNet for Synonyms](https://stackoverflow.com/questions/34620627/using-arabic-wordnet-for-synonyms-in-python)"
   ]
  },
  {
   "cell_type": "code",
   "execution_count": 15,
   "metadata": {},
   "outputs": [
    {
     "name": "stderr",
     "output_type": "stream",
     "text": [
      "[nltk_data] Downloading package wordnet to /Users/fadi/nltk_data...\n",
      "[nltk_data]   Package wordnet is already up-to-date!\n",
      "[nltk_data] Downloading package omw-1.4 to /Users/fadi/nltk_data...\n"
     ]
    }
   ],
   "source": [
    "import nltk\n",
    "nltk.download('wordnet')\n",
    "nltk.download('omw-1.4')\n",
    "from nltk.corpus import wordnet"
   ]
  },
  {
   "cell_type": "code",
   "execution_count": 3,
   "metadata": {},
   "outputs": [],
   "source": [
    "from AWNDatabaseManagement import wn"
   ]
  },
  {
   "cell_type": "code",
   "execution_count": 14,
   "metadata": {},
   "outputs": [],
   "source": [
    "wn.get_synsets_from_word(\"جميل\")"
   ]
  },
  {
   "cell_type": "code",
   "execution_count": 31,
   "metadata": {},
   "outputs": [],
   "source": [
    "def get_synonyms(word):\n",
    "     definitions = []\n",
    "     synonyms = []\n",
    "     antonyms = []\n",
    "\n",
    "     for syn in wordnet.synsets(word, lang='arb'):\n",
    "          definitions.append(syn.definition())\n",
    "          for l in syn.lemmas(lang='arb'):\n",
    "               synonyms.append(l.name())\n",
    "               if l.antonyms():\n",
    "                    antonyms.append(l.antonyms()[0].name())\n",
    "\n",
    "     print(set(definitions))\n",
    "     print(set(synonyms))\n",
    "     print(set(antonyms))"
   ]
  },
  {
   "cell_type": "code",
   "execution_count": 32,
   "metadata": {},
   "outputs": [
    {
     "name": "stdout",
     "output_type": "stream",
     "text": [
      "{'the social event at which the ceremony of marriage is performed', 'become or cause to become soft or liquid', 'the emotion of great happiness'}\n",
      "{'روض', 'أذاب', 'صهر', 'نحل', 'ذوّب', 'عُرْس', 'تلاشى', 'سعادة', 'سال', 'حل', 'قض', 'زَفَاف', 'أصبح_دافئا', 'ألغى', 'اِبْتِهاج', 'رق', 'فرح', 'بدد', 'حل_البرلمان', 'أنهى', 'انصهر', 'سيّل', 'حفْل_زواج', 'حفل_زفاف', 'ذاب', 'بدد_أماله'}\n",
      "set()\n"
     ]
    }
   ],
   "source": [
    "get_synonyms('فرح')"
   ]
  },
  {
   "cell_type": "code",
   "execution_count": null,
   "metadata": {},
   "outputs": [],
   "source": []
  }
 ],
 "metadata": {
  "kernelspec": {
   "display_name": "Python 3 (ipykernel)",
   "language": "python",
   "name": "python3"
  },
  "language_info": {
   "codemirror_mode": {
    "name": "ipython",
    "version": 3
   },
   "file_extension": ".py",
   "mimetype": "text/x-python",
   "name": "python",
   "nbconvert_exporter": "python",
   "pygments_lexer": "ipython3",
   "version": "3.11.5"
  }
 },
 "nbformat": 4,
 "nbformat_minor": 2
}
